{
  "nbformat": 4,
  "nbformat_minor": 0,
  "metadata": {
    "colab": {
      "name": "Summer Olympics.ipynb",
      "provenance": []
    },
    "kernelspec": {
      "name": "python3",
      "display_name": "Python 3"
    },
    "language_info": {
      "name": "python"
    }
  },
  "cells": [
    {
      "cell_type": "markdown",
      "metadata": {
        "id": "Ww5rNEXUZIF8"
      },
      "source": [
        "## Summer Olympics Data Analysis Assignment"
      ]
    },
    {
      "cell_type": "markdown",
      "metadata": {
        "id": "AnGpX2rAZRh2"
      },
      "source": [
        "## Q1. In how many cities the Summer Olympics were held so far"
      ]
    },
    {
      "cell_type": "code",
      "metadata": {
        "colab": {
          "base_uri": "https://localhost:8080/"
        },
        "id": "mG9pgVfoZZq4",
        "outputId": "2aabdc3b-bcd6-493c-b01a-fbb823c21fb1"
      },
      "source": [
        "import pandas as pd\n",
        "import matplotlib.pyplot as plt\n",
        "df = pd.read_csv('summer.csv')\n",
        "x = df['City'].unique()   #this returns a list of all the cities where the Summer Olympics have been held so far\n",
        "print(\"The number of cities:\",len(x))"
      ],
      "execution_count": 3,
      "outputs": [
        {
          "output_type": "stream",
          "name": "stdout",
          "text": [
            "The number of cities: 22\n"
          ]
        }
      ]
    },
    {
      "cell_type": "markdown",
      "metadata": {
        "id": "Yf8crP3padDl"
      },
      "source": [
        "##Q2. Which sport has the most number of Gold Medals so far? (top 5 with graph)\n"
      ]
    },
    {
      "cell_type": "code",
      "metadata": {
        "colab": {
          "base_uri": "https://localhost:8080/",
          "height": 345
        },
        "id": "BvTZgnbsao4P",
        "outputId": "61120554-113e-46df-c368-d436df191539"
      },
      "source": [
        "medals=[]\n",
        "for sport in df['Sport'].unique():  #unique() function gives the unique values of a particular column \n",
        "  medals.append((sport,len(df[(df['Sport'] == sport) & (df['Medal']== 'Gold')])))  #the conditions have to be specified with the & bitwise operator\n",
        "medals = pd.DataFrame(medals, columns= ['Sport Name', 'No. of Gold Medals'])  #converting the created list into a dataframe using the DataFrame function\n",
        "medals.sort_values(by = 'No. of Gold Medals', ascending = False).head().plot(x = 'Sport Name', y='No. of Gold Medals', kind='bar')  \n",
        "  #sorting the dataframe using the sort_values function in the descending order and plotting a bar graph "
      ],
      "execution_count": 87,
      "outputs": [
        {
          "output_type": "execute_result",
          "data": {
            "text/plain": [
              "<matplotlib.axes._subplots.AxesSubplot at 0x7fc90e4c82d0>"
            ]
          },
          "metadata": {},
          "execution_count": 87
        },
        {
          "output_type": "display_data",
          "data": {
            "image/png": "[encoded data removed]",
            "text/plain": [
              "<Figure size 432x288 with 1 Axes>"
            ]
          },
          "metadata": {
            "needs_background": "light"
          }
        }
      ]
    },
    {
      "cell_type": "markdown",
      "metadata": {
        "id": "OfOpLyE1g5E0"
      },
      "source": [
        "##Q3. Which sport has the most number of medals so far?"
      ]
    },
    {
      "cell_type": "code",
      "metadata": {
        "id": "zGCWWog3hAOQ"
      },
      "source": [
        "data=[]\n",
        "for sport in df['Sport'].unique():\n",
        "  data.append((sport,len(df[df['Sport'] == sport])))   ##making a list of required data"
      ],
      "execution_count": 5,
      "outputs": []
    },
    {
      "cell_type": "code",
      "metadata": {
        "id": "ynR8Ib_Ch4Z1"
      },
      "source": [
        "data = pd.DataFrame(data, columns = ['Sport','Number of Medals'])  #converting the list into a dataframe"
      ],
      "execution_count": 6,
      "outputs": []
    },
    {
      "cell_type": "code",
      "metadata": {
        "colab": {
          "base_uri": "https://localhost:8080/",
          "height": 345
        },
        "id": "8xuy-YBxjhpn",
        "outputId": "e7b5dcd9-d99e-4410-a039-3aa463972ba5"
      },
      "source": [
        "data.sort_values(by= 'Number of Medals',ascending=False).head().plot(x='Sport' ,y= 'Number of Medals',kind='bar' )\n",
        "##sorting the values in dataframe by 'No of medals' column in the descending order\n",
        "##plotting a bar graph of the acquired data"
      ],
      "execution_count": 7,
      "outputs": [
        {
          "output_type": "execute_result",
          "data": {
            "text/plain": [
              "<matplotlib.axes._subplots.AxesSubplot at 0x7fc910cc0950>"
            ]
          },
          "metadata": {},
          "execution_count": 7
        },
        {
          "output_type": "display_data",
          "data": {
            "image/png": "[encoded data removed]",
            "text/plain": [
              "<Figure size 432x288 with 1 Axes>"
            ]
          },
          "metadata": {
            "needs_background": "light"
          }
        }
      ]
    },
    {
      "cell_type": "markdown",
      "metadata": {
        "id": "QcVnGlbM8SFP"
      },
      "source": [
        "##4. Which player has won most number of medals? (Top 5)"
      ]
    },
    {
      "cell_type": "code",
      "metadata": {
        "id": "U_bcOP6W8lCK"
      },
      "source": [
        "players=[]\n",
        "for player in df['Athlete'].unique():\n",
        "  players.append((player,len(df[df['Athlete'] == player])))    ##making a list of required data"
      ],
      "execution_count": 8,
      "outputs": []
    },
    {
      "cell_type": "code",
      "metadata": {
        "colab": {
          "base_uri": "https://localhost:8080/",
          "height": 404
        },
        "id": "_6oqFiAS9EB0",
        "outputId": "73a3fd33-5098-42be-b5e7-78b89da45251"
      },
      "source": [
        "players = pd.DataFrame(players, columns = ['Athlete','Number of Medals'])  #converting the list into a dataframe\n",
        "players.sort_values(by = 'Number of Medals',ascending = False).head().plot(x='Athlete',y= 'Number of Medals',kind='bar')\n",
        "##sorting the values in dataframe by 'No of medals' column in the descending order\n",
        "##plotting a bar graph of the acquired data"
      ],
      "execution_count": 9,
      "outputs": [
        {
          "output_type": "execute_result",
          "data": {
            "text/plain": [
              "<matplotlib.axes._subplots.AxesSubplot at 0x7fc910ba0510>"
            ]
          },
          "metadata": {},
          "execution_count": 9
        },
        {
          "output_type": "display_data",
          "data": {
            "image/png": "[encoded data removed]",
            "text/plain": [
              "<Figure size 432x288 with 1 Axes>"
            ]
          },
          "metadata": {
            "needs_background": "light"
          }
        }
      ]
    },
    {
      "cell_type": "markdown",
      "metadata": {
        "id": "IjWO5zrNFD-b"
      },
      "source": [
        "##Q5.Which player has won most number Gold Medals of medals? (Top 5)"
      ]
    },
    {
      "cell_type": "code",
      "metadata": {
        "colab": {
          "base_uri": "https://localhost:8080/",
          "height": 371
        },
        "id": "6fKO6K8YFL5W",
        "outputId": "558c407a-4dd9-4474-924f-6a74615ce60a"
      },
      "source": [
        "gold_medals=[]\n",
        "for player in df['Athlete'].unique():  #using a for loop to find the unique names of Athletes\n",
        "  gold_medals.append((player,len(df[(df['Athlete'] == player) & (df['Medal'] == 'Gold')])))  #appending the required data to the list\n",
        "gold_medals = pd.DataFrame(gold_medals, columns=['Athlete Name','No. of Gold Medals'])  #converting the list to a dataframe\n",
        "gold_medals.sort_values(by = 'No. of Gold Medals', ascending= False).head().plot(x = 'Athlete Name', y = 'No. of Gold Medals', kind = 'bar')\n",
        "#plotting a bar graph for the same"
      ],
      "execution_count": 92,
      "outputs": [
        {
          "output_type": "execute_result",
          "data": {
            "text/plain": [
              "<matplotlib.axes._subplots.AxesSubplot at 0x7fc90e280590>"
            ]
          },
          "metadata": {},
          "execution_count": 92
        },
        {
          "output_type": "display_data",
          "data": {
            "image/png": "[encoded data removed]",
            "text/plain": [
              "<Figure size 432x288 with 1 Axes>"
            ]
          },
          "metadata": {
            "needs_background": "light"
          }
        }
      ]
    },
    {
      "cell_type": "markdown",
      "metadata": {
        "id": "hSgvz9Hd5UgO"
      },
      "source": [
        "#Q6. In which year India won the first Gold Medal in Summer Olympics?"
      ]
    },
    {
      "cell_type": "code",
      "metadata": {
        "colab": {
          "base_uri": "https://localhost:8080/"
        },
        "id": "vA_r2ab75cA5",
        "outputId": "9b4ecb3a-5783-4a2b-a43c-c9797447c087"
      },
      "source": [
        "years=[]\n",
        "years.append(df[(df['Medal']=='Gold') & (df['Country']=='IND')])\n",
        "print(\"India won its first Gold Medal in the Year:\",years[0].head(1)['Year']) \n",
        "#years[0] gives the whole dataframe. taking the data of only the first row will give the desired year which is 1928"
      ],
      "execution_count": 63,
      "outputs": [
        {
          "output_type": "stream",
          "name": "stdout",
          "text": [
            "India won its first Gold Medal in the Year: 5512    1928\n",
            "Name: Year, dtype: int64\n"
          ]
        }
      ]
    },
    {
      "cell_type": "markdown",
      "metadata": {
        "id": "YG_-uBFEf7i7"
      },
      "source": [
        "#Q7. Which event is the most popular in terms of number of players( top 5 with graph)"
      ]
    },
    {
      "cell_type": "code",
      "metadata": {
        "id": "MftF1cxu9oLe"
      },
      "source": [
        "events=[]   #creating an empty list named 'events'\n",
        "for event in df['Event'].unique():\n",
        "  events.append((event,len(df[df['Event'] == event]))) #appending elements to the list"
      ],
      "execution_count": 68,
      "outputs": []
    },
    {
      "cell_type": "code",
      "metadata": {
        "colab": {
          "base_uri": "https://localhost:8080/",
          "height": 376
        },
        "id": "ymfOTh2zgTf0",
        "outputId": "f1294140-a9cb-45a7-8da2-aff516a353e7"
      },
      "source": [
        "events = pd.DataFrame( events , columns=['Event Name','No. of players'])  #converting list to a datadrame\n",
        "events.sort_values(by='No. of players', ascending=False).head().plot(x='Event Name', y = 'No. of players',kind='bar')\n",
        "#plotting a bar graph for the same"
      ],
      "execution_count": 72,
      "outputs": [
        {
          "output_type": "execute_result",
          "data": {
            "text/plain": [
              "<matplotlib.axes._subplots.AxesSubplot at 0x7fc90e5a0c90>"
            ]
          },
          "metadata": {},
          "execution_count": 72
        },
        {
          "output_type": "display_data",
          "data": {
            "image/png": "[encoded data removed]",
            "text/plain": [
              "<Figure size 432x288 with 1 Axes>"
            ]
          },
          "metadata": {
            "needs_background": "light"
          }
        }
      ]
    },
    {
      "cell_type": "markdown",
      "metadata": {
        "id": "iFc7aQUUiEPn"
      },
      "source": [
        "##Q8. Which sport has the most female Gold Medalists? (Top 5 with graph)"
      ]
    },
    {
      "cell_type": "code",
      "metadata": {
        "id": "CLxutXhNiNae"
      },
      "source": [
        "sports=[]\n",
        "for sport in df['Sport'].unique():\n",
        "  sports.append((sport, len(df[(df['Gender']=='Women') & (df['Medal']=='Gold') & (df['Sport']==sport)])))\n",
        "  ##all the three conditions have to be mentioned to get the desired result for this question"
      ],
      "execution_count": 78,
      "outputs": []
    },
    {
      "cell_type": "code",
      "metadata": {
        "colab": {
          "base_uri": "https://localhost:8080/",
          "height": 345
        },
        "id": "S-uiCnwbic5U",
        "outputId": "701db749-1447-4147-a1e1-7c6a6ecd5015"
      },
      "source": [
        "sports = pd.DataFrame(sports, columns=['Sport Name','No. of Gold Medals by Women'])\n",
        "sports.sort_values(by= 'No. of Gold Medals by Women', ascending= False).head().plot(x= 'Sport Name', y = 'No. of Gold Medals by Women',kind = 'bar')\n",
        "##creating a bar graph for the same"
      ],
      "execution_count": 79,
      "outputs": [
        {
          "output_type": "execute_result",
          "data": {
            "text/plain": [
              "<matplotlib.axes._subplots.AxesSubplot at 0x7fc90e535410>"
            ]
          },
          "metadata": {},
          "execution_count": 79
        },
        {
          "output_type": "display_data",
          "data": {
            "image/png": "[encoded data removed]",
            "text/plain": [
              "<Figure size 432x288 with 1 Axes>"
            ]
          },
          "metadata": {
            "needs_background": "light"
          }
        }
      ]
    },
    {
      "cell_type": "code",
      "metadata": {
        "id": "UQV-hBp1jyYF"
      },
      "source": [
        ""
      ],
      "execution_count": null,
      "outputs": []
    }
  ]
}